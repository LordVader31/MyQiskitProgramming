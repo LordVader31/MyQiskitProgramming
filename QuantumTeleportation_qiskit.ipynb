{
 "cells": [
  {
   "cell_type": "markdown",
   "metadata": {},
   "source": [
    "# Quantum Teleportation Circuit"
   ]
  },
  {
   "cell_type": "markdown",
   "metadata": {},
   "source": [
    "This is a standard quantum teleportation circuit. It is based on the Qiskit training video linked here. \n",
    "[Qiskit Step 4](https://www.youtube.com/watch?v=mMwovHK2NrE). It also uses the code from [Quantum Teleporation](https://qiskit.org/textbook/ch-algorithms/teleportation.html#2.-The-Quantum-Teleportation-Protocol-)"
   ]
  },
  {
   "cell_type": "code",
   "execution_count": 52,
   "metadata": {},
   "outputs": [],
   "source": [
    "from qiskit import *\n",
    "from qiskit.tools.visualization import plot_histogram, plot_bloch_multivector\n",
    "from qiskit.tools.monitor import job_monitor"
   ]
  },
  {
   "cell_type": "markdown",
   "metadata": {},
   "source": [
    "## Defining the Circuit"
   ]
  },
  {
   "cell_type": "code",
   "execution_count": 53,
   "metadata": {},
   "outputs": [],
   "source": [
    "quantReg = QuantumRegister(3, name = 'q')\n",
    "crz = ClassicalRegister(1, name = 'crz')\n",
    "crx = ClassicalRegister(1, name = 'crx')\n",
    "circuit = QuantumCircuit(quantReg, classReg)"
   ]
  },
  {
   "cell_type": "markdown",
   "metadata": {},
   "source": [
    "## Important Functions"
   ]
  },
  {
   "cell_type": "markdown",
   "metadata": {},
   "source": [
    "### Bell Pair Creation"
   ]
  },
  {
   "cell_type": "markdown",
   "metadata": {},
   "source": [
    "This function essentially creates an entangled pair of qubits. This pair is a special one - Bell pair. It is created by first converting either one to X-basis (|+>  and |->) state (using a Hadamard gate). Then a CNOT gate is applied where the control qubit is the X-basis one and the target is the other qubit."
   ]
  },
  {
   "cell_type": "code",
   "execution_count": 54,
   "metadata": {},
   "outputs": [],
   "source": [
    "def createBellPair(quantCirc, qubit0, qubit1) :\n",
    "    quantCirc.h(qubit0)\n",
    "    quantCirc.cx(qubit0, qubit1)"
   ]
  },
  {
   "cell_type": "markdown",
   "metadata": {},
   "source": [
    "### Introduction of the State"
   ]
  },
  {
   "cell_type": "markdown",
   "metadata": {},
   "source": [
    "Here we want to transport the state $|\\psi> $ (which is q0) to q2. "
   ]
  },
  {
   "cell_type": "code",
   "execution_count": 55,
   "metadata": {},
   "outputs": [],
   "source": [
    "def psiEntangle(quantCirc, state, target) :\n",
    "    quantCirc.cx(state, target)\n",
    "    quantCirc.h(state)"
   ]
  },
  {
   "cell_type": "markdown",
   "metadata": {},
   "source": [
    "### Measure the States"
   ]
  },
  {
   "cell_type": "markdown",
   "metadata": {},
   "source": [
    "Now we measure the states of $ |\\psi> $ and the intermediate entagled qubit."
   ]
  },
  {
   "cell_type": "code",
   "execution_count": 56,
   "metadata": {},
   "outputs": [],
   "source": [
    "def measureStates(quantCirc, qubit0, qubit1) :\n",
    "    quantCirc.measure(qubit0, 0)\n",
    "    quantCirc.measure(qubit1, 1)"
   ]
  },
  {
   "cell_type": "markdown",
   "metadata": {},
   "source": [
    "### Recepient Qubit Processing"
   ]
  },
  {
   "cell_type": "markdown",
   "metadata": {},
   "source": [
    "Based on the value of the measurement of $ |\\psi> $ and the intermediate entagled qubit (q1) , q2 must perform some operations to obtain the state value"
   ]
  },
  {
   "cell_type": "code",
   "execution_count": 57,
   "metadata": {},
   "outputs": [],
   "source": [
    "def receiveStateOperation(quantCirc, qubit, crz, crx) :\n",
    "    quantCirc.x(qubit).c_if(crx, 1) # Apply gates if the registers \n",
    "    quantCirc.z(qubit).c_if(crz, 1) # are in the state '1'    "
   ]
  },
  {
   "cell_type": "markdown",
   "metadata": {},
   "source": [
    "## Combining the Operations"
   ]
  },
  {
   "cell_type": "markdown",
   "metadata": {},
   "source": [
    "Here we combine the operations together to get make the teleporation work"
   ]
  },
  {
   "cell_type": "code",
   "execution_count": 58,
   "metadata": {},
   "outputs": [],
   "source": [
    "#STEP1 \n",
    "createBellPair(circuit, 1, 2)\n",
    "circuit.barrier()\n",
    "\n",
    "#STEP 2\n",
    "psiEntangle(circuit, 0, 1)\n",
    "circuit.barrier()\n",
    "\n",
    "#STEP 3\n",
    "measureStates(circuit, 0, 1)\n",
    "circuit.barrier()\n",
    "\n",
    "#STEP 4\n",
    "receiveStateOperation(circuit, 2, crz, crx)\n"
   ]
  },
  {
   "cell_type": "code",
   "execution_count": 59,
   "metadata": {},
   "outputs": [
    {
     "ename": "NameError",
     "evalue": "name 'random_state' is not defined",
     "output_type": "error",
     "traceback": [
      "\u001b[1;31m---------------------------------------------------------------------------\u001b[0m",
      "\u001b[1;31mNameError\u001b[0m                                 Traceback (most recent call last)",
      "\u001b[1;32m<ipython-input-59-0c28c03d7b52>\u001b[0m in \u001b[0;36m<module>\u001b[1;34m\u001b[0m\n\u001b[1;32m----> 1\u001b[1;33m \u001b[0mpsi\u001b[0m \u001b[1;33m=\u001b[0m \u001b[0mrandom_state\u001b[0m\u001b[1;33m(\u001b[0m\u001b[1;36m1\u001b[0m\u001b[1;33m)\u001b[0m\u001b[1;33m\u001b[0m\u001b[1;33m\u001b[0m\u001b[0m\n\u001b[0m\u001b[0;32m      2\u001b[0m \u001b[1;31m# Display it nicely\u001b[0m\u001b[1;33m\u001b[0m\u001b[1;33m\u001b[0m\u001b[1;33m\u001b[0m\u001b[0m\n\u001b[0;32m      3\u001b[0m \u001b[0marray_to_latex\u001b[0m\u001b[1;33m(\u001b[0m\u001b[0mpsi\u001b[0m\u001b[1;33m,\u001b[0m \u001b[0mpretext\u001b[0m\u001b[1;33m=\u001b[0m\u001b[1;34m\"|\\\\psi\\\\rangle =\"\u001b[0m\u001b[1;33m)\u001b[0m\u001b[1;33m\u001b[0m\u001b[1;33m\u001b[0m\u001b[0m\n\u001b[0;32m      4\u001b[0m \u001b[1;31m# Show it on a Bloch sphere\u001b[0m\u001b[1;33m\u001b[0m\u001b[1;33m\u001b[0m\u001b[1;33m\u001b[0m\u001b[0m\n\u001b[0;32m      5\u001b[0m \u001b[0mplot_bloch_multivector\u001b[0m\u001b[1;33m(\u001b[0m\u001b[0mpsi\u001b[0m\u001b[1;33m)\u001b[0m\u001b[1;33m\u001b[0m\u001b[1;33m\u001b[0m\u001b[0m\n",
      "\u001b[1;31mNameError\u001b[0m: name 'random_state' is not defined"
     ]
    }
   ],
   "source": [
    "psi = random_state(1)\n",
    "# Display it nicely\n",
    "array_to_latex(psi, pretext=\"|\\\\psi\\\\rangle =\")\n",
    "# Show it on a Bloch sphere\n",
    "plot_bloch_multivector(psi)"
   ]
  }
 ],
 "metadata": {
  "kernelspec": {
   "display_name": "Python 3",
   "language": "python",
   "name": "python3"
  },
  "language_info": {
   "codemirror_mode": {
    "name": "ipython",
    "version": 3
   },
   "file_extension": ".py",
   "mimetype": "text/x-python",
   "name": "python",
   "nbconvert_exporter": "python",
   "pygments_lexer": "ipython3",
   "version": "3.8.5"
  }
 },
 "nbformat": 4,
 "nbformat_minor": 4
}

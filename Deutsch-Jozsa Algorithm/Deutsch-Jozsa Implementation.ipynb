{
 "cells": [
  {
   "cell_type": "markdown",
   "id": "bb9d1ce9",
   "metadata": {},
   "source": [
    "The imports necessary to make the code work : "
   ]
  },
  {
   "cell_type": "code",
   "execution_count": null,
   "id": "7272f458",
   "metadata": {},
   "outputs": [],
   "source": [
    "%matplotlib inline\n",
    "# Importing standard Qiskit libraries\n",
    "from qiskit import QuantumCircuit, execute, Aer, IBMQ\n",
    "from qiskit.compiler import transpile, assemble\n",
    "from qiskit.visualization import plot_bloch_multivector, plot_histogram\n",
    "from qiskit.visualization import *\n",
    "from math import sqrt, pi\n",
    "\n",
    "# Loading your IBM Q account(s)\n",
    "provider = IBMQ.load_account()"
   ]
  },
  {
   "cell_type": "markdown",
   "id": "811c9649",
   "metadata": {},
   "source": [
    "# Deutsch - Jozsa Algorithm "
   ]
  },
  {
   "cell_type": "markdown",
   "id": "a3005877",
   "metadata": {},
   "source": [
    "The circuit is defined below :"
   ]
  },
  {
   "cell_type": "code",
   "execution_count": null,
   "id": "c7c1d580",
   "metadata": {},
   "outputs": [],
   "source": [
    "circuit = QuantumCircuit(2, 2)\n",
    "circuit.x(1)\n",
    "circuit.h([0,1])\n",
    "circuit.barrier()\n",
    "circuit.draw()"
   ]
  },
  {
   "cell_type": "markdown",
   "id": "a009d0ae",
   "metadata": {},
   "source": [
    "Now we define the function on one qubit. "
   ]
  },
  {
   "cell_type": "code",
   "execution_count": null,
   "id": "ad179969",
   "metadata": {},
   "outputs": [],
   "source": []
  }
 ],
 "metadata": {
  "@webio": {
   "lastCommId": null,
   "lastKernelId": null
  },
  "kernelspec": {
   "display_name": "Python 3",
   "language": "python",
   "name": "python3"
  },
  "language_info": {
   "codemirror_mode": {
    "name": "ipython",
    "version": 3
   },
   "file_extension": ".py",
   "mimetype": "text/x-python",
   "name": "python",
   "nbconvert_exporter": "python",
   "pygments_lexer": "ipython3",
   "version": "3.8.5"
  }
 },
 "nbformat": 4,
 "nbformat_minor": 5
}

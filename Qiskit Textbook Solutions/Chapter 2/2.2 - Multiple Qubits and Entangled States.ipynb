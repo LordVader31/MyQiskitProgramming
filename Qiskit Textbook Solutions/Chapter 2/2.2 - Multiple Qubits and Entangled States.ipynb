{
 "cells": [
  {
   "cell_type": "code",
   "execution_count": 3,
   "metadata": {},
   "outputs": [],
   "source": [
    "%matplotlib inline\n",
    "# Importing standard Qiskit libraries\n",
    "from qiskit import QuantumCircuit, execute, Aer, IBMQ\n",
    "from qiskit.compiler import transpile, assemble\n",
    "from qiskit.visualization import plot_bloch_multivector, plot_histogram\n",
    "from qiskit.visualization import *\n",
    "from math import sqrt, pi\n",
    "\n",
    "# Loading your IBM Q account(s)\n",
    "provider = IBMQ.load_account()"
   ]
  },
  {
   "cell_type": "markdown",
   "metadata": {},
   "source": [
    "## Quick Exercises 1"
   ]
  },
  {
   "cell_type": "markdown",
   "metadata": {},
   "source": [
    "### 1. Write down the tensor product of the qubits:\n",
    " a. |0⟩|1⟩\n",
    "        $$ \\begin{bmatrix} 0 \\\\ 1 \\\\ 0 \\\\ 0 \\end{bmatrix} $$\n",
    " b. |0⟩|+⟩\n",
    "        $$ \\frac{1}{\\sqrt{2}} \\begin{bmatrix} 1 \\\\ 1 \\\\ 0 \\\\ 0 \\end{bmatrix} $$\n",
    " c. |+⟩|1⟩ \n",
    "        $$ \\frac{1}{\\sqrt{2}} \\begin{bmatrix} 0 \\\\ 1 \\\\ 0 \\\\ 1 \\end{bmatrix} $$\n",
    " d. |−⟩|+⟩\n",
    "        $$ \\frac{1}{2} \\begin{bmatrix} 1 \\\\ 1 \\\\ -1 \\\\ -1 \\end{bmatrix} $$"
   ]
  },
  {
   "cell_type": "markdown",
   "metadata": {},
   "source": [
    "### 2. Write the state: $$ |\\psi⟩= \\frac{1}{\\sqrt{2}} |00⟩+ \\frac{i}{\\sqrt{2}} |01⟩ $$ as two separate qubits"
   ]
  },
  {
   "cell_type": "markdown",
   "metadata": {},
   "source": [
    "This is simply a matter of expanding the tensor product. The answer is apparent when completed \n",
    "$$ |\\psi⟩= \\frac{1}{\\sqrt{2}} |00⟩+ \\frac{i}{\\sqrt{2}} |01⟩ = \\frac{1}{\\sqrt{2}} \\begin{bmatrix} 1 \\\\ i \\\\ 0 \\\\ 0 \\end{bmatrix} = |0⟩|\\circlearrowright⟩ $$"
   ]
  },
  {
   "cell_type": "markdown",
   "metadata": {},
   "source": [
    "## Quick Exercises 2"
   ]
  },
  {
   "cell_type": "markdown",
   "metadata": {},
   "source": [
    "### 1. Calculate the single qubit unitary (U) created by the sequence of gates: U=XZH. Use Qiskit's unitary simulator to check your results."
   ]
  },
  {
   "cell_type": "markdown",
   "metadata": {},
   "source": [
    "$$ \\displaystyle U = XZH = \\frac{1}{\\sqrt{2}}  \\begin{bmatrix} 0 & 1 \\\\ 1 & 0 \\end{bmatrix}  \\begin{bmatrix} 1 & 0 \\\\ 0 & -1 \\end{bmatrix}  \\begin{bmatrix} 1 & 1 \\\\ 1 & -1 \\end{bmatrix} = \\frac{1}{\\sqrt{2}} \\begin{bmatrix} -1 & 1 \\\\ 1 & 1 \\end{bmatrix}$$"
   ]
  },
  {
   "cell_type": "code",
   "execution_count": 4,
   "metadata": {},
   "outputs": [
    {
     "data": {
      "image/png": "[encoded data removed]",
      "text/plain": [
       "<Figure size 253.926x144.48 with 1 Axes>"
      ]
     },
     "execution_count": 4,
     "metadata": {},
     "output_type": "execute_result"
    }
   ],
   "source": [
    "circuit = QuantumCircuit(1, 1)\n",
    "circuit.h(0)\n",
    "circuit.z(0)\n",
    "circuit.x(0)\n",
    "circuit.draw('mpl')"
   ]
  },
  {
   "cell_type": "code",
   "execution_count": 7,
   "metadata": {},
   "outputs": [
    {
     "data": {
      "text/latex": [
       "$\\displaystyle \n",
       "\\text{Circuit = } \\begin{bmatrix}\n",
       "-\\tfrac{1}{\\sqrt{2}} & \\tfrac{1}{\\sqrt{2}}  \\\\\n",
       "\\tfrac{1}{\\sqrt{2}} & \\tfrac{1}{\\sqrt{2}}  \\\\\n",
       "\\end{bmatrix}\n",
       "$$\n",
       "$"
      ],
      "text/plain": [
       "<IPython.core.display.Math object>"
      ]
     },
     "metadata": {},
     "output_type": "display_data"
    }
   ],
   "source": [
    "from qiskit_textbook.tools import array_to_latex\n",
    "unitarySim = Aer.get_backend('unitary_simulator')\n",
    "matrixCircuit =  execute(circuit, backend = unitarySim).result().get_unitary()\n",
    "array_to_latex(matrixCircuit, pretext=\"\\\\text{Circuit = } \")"
   ]
  }
 ],
 "metadata": {
  "kernelspec": {
   "display_name": "Python 3",
   "language": "python",
   "name": "python3"
  },
  "language_info": {
   "codemirror_mode": {
    "name": "ipython",
    "version": 3
   },
   "file_extension": ".py",
   "mimetype": "text/x-python",
   "name": "python",
   "nbconvert_exporter": "python",
   "pygments_lexer": "ipython3",
   "version": "3.8.5"
  }
 },
 "nbformat": 4,
 "nbformat_minor": 4
}
